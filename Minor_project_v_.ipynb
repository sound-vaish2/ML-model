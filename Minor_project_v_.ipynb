{
  "nbformat": 4,
  "nbformat_minor": 0,
  "metadata": {
    "colab": {
      "name": "Minor-project - v .ipynb",
      "provenance": [],
      "collapsed_sections": [],
      "mount_file_id": "1kkU34u7FjqvotXZKtCD8NSekNZ04tTL5",
      "authorship_tag": "ABX9TyPHg/1cykm9bOGNKHk/lE0a",
      "include_colab_link": true
    },
    "kernelspec": {
      "name": "python3",
      "display_name": "Python 3"
    }
  },
  "cells": [
    {
      "cell_type": "markdown",
      "metadata": {
        "id": "view-in-github",
        "colab_type": "text"
      },
      "source": [
        "<a href=\"https://colab.research.google.com/github/sound-vaish2/ML-model/blob/master/Minor_project_v_.ipynb\" target=\"_parent\"><img src=\"https://colab.research.google.com/assets/colab-badge.svg\" alt=\"Open In Colab\"/></a>"
      ]
    },
    {
      "cell_type": "code",
      "metadata": {
        "id": "vnBdygLfRz4d",
        "colab_type": "code",
        "colab": {}
      },
      "source": [
        "import numpy as np\n",
        "import matplotlib.pyplot as plt\n",
        "import seaborn as sns\n"
      ],
      "execution_count": null,
      "outputs": []
    },
    {
      "cell_type": "code",
      "metadata": {
        "id": "U02UrrmkQSza",
        "colab_type": "code",
        "colab": {}
      },
      "source": [
        "#Creating the dataframe\n",
        "import pandas as pd\n",
        "df = pd.read_csv('/content/drive/My Drive/smartknower/machine learning/wine-quality.csv')\n",
        "df"
      ],
      "execution_count": null,
      "outputs": []
    },
    {
      "cell_type": "code",
      "metadata": {
        "id": "66MNLYyOS2mp",
        "colab_type": "code",
        "colab": {}
      },
      "source": [
        "df.info()"
      ],
      "execution_count": null,
      "outputs": []
    },
    {
      "cell_type": "code",
      "metadata": {
        "id": "D96u4WscS4lA",
        "colab_type": "code",
        "colab": {}
      },
      "source": [
        "#names of columns in dataset\n",
        "df.columns"
      ],
      "execution_count": null,
      "outputs": []
    },
    {
      "cell_type": "code",
      "metadata": {
        "id": "Us6mTA0yGCBh",
        "colab_type": "code",
        "colab": {}
      },
      "source": [
        "#to detect if a data frame has nan values\n",
        "df.isnull().sum().sum()"
      ],
      "execution_count": null,
      "outputs": []
    },
    {
      "cell_type": "code",
      "metadata": {
        "id": "yTDcUUSFFV6g",
        "colab_type": "code",
        "colab": {}
      },
      "source": [
        "df.isna().sum()"
      ],
      "execution_count": null,
      "outputs": []
    },
    {
      "cell_type": "code",
      "metadata": {
        "id": "2FIdkL4uRaOu",
        "colab_type": "code",
        "colab": {}
      },
      "source": [
        "# dividing the input and output\n",
        "\n",
        "x = df.iloc[:,0:12].values\n",
        "y = df['quality']\n"
      ],
      "execution_count": null,
      "outputs": []
    },
    {
      "cell_type": "code",
      "metadata": {
        "id": "v75qYYL-RazW",
        "colab_type": "code",
        "colab": {}
      },
      "source": [
        "#data visualizaton using heatmap\n",
        "import seaborn as sns\n",
        "corrmat = df.corr()\n",
        "sns.heatmap(corrmat, annot=True)"
      ],
      "execution_count": null,
      "outputs": []
    },
    {
      "cell_type": "code",
      "metadata": {
        "id": "MxgSSGHYRdME",
        "colab_type": "code",
        "colab": {}
      },
      "source": [
        "#splitting the input and output\n",
        "#into train and test data\n",
        "from sklearn.model_selection import train_test_split\n",
        "x_train, x_test, y_train, y_test = train_test_split(x, y, test_size = 0.3,random_state = 50)\n",
        "from sklearn.preprocessing import MinMaxScaler\n",
        "scaler = MinMaxScaler()\n",
        "x_train = scaler.fit_transform(x_train)\n",
        "x_test = scaler.transform(x_test)"
      ],
      "execution_count": null,
      "outputs": []
    },
    {
      "cell_type": "code",
      "metadata": {
        "id": "76hIga5aRgMn",
        "colab_type": "code",
        "colab": {}
      },
      "source": [
        "#Using KNN classification model\n",
        "from sklearn.neighbors import KNeighborsClassifier\n",
        "model = KNeighborsClassifier(n_neighbors = 41)\n",
        "#fitting the model\n",
        "model.fit(x_train, y_train)\n",
        "y_pred = model.predict(x_test)"
      ],
      "execution_count": null,
      "outputs": []
    },
    {
      "cell_type": "code",
      "metadata": {
        "id": "T8FVYDzZTKE6",
        "colab_type": "code",
        "colab": {}
      },
      "source": [
        ""
      ],
      "execution_count": null,
      "outputs": []
    },
    {
      "cell_type": "code",
      "metadata": {
        "id": "7IyiWqB0Swcp",
        "colab_type": "code",
        "colab": {}
      },
      "source": [
        "#predicted output\n",
        "y_pred\n"
      ],
      "execution_count": null,
      "outputs": []
    },
    {
      "cell_type": "code",
      "metadata": {
        "id": "vI5y-hVKRivT",
        "colab_type": "code",
        "colab": {}
      },
      "source": [
        "#Accuracy score\n",
        "from sklearn.metrics import accuracy_score\n",
        "accuracy_score(y_test,y_pred)*100"
      ],
      "execution_count": null,
      "outputs": []
    },
    {
      "cell_type": "code",
      "metadata": {
        "id": "xhzPW8SwRky2",
        "colab_type": "code",
        "colab": {}
      },
      "source": [
        "#Confusion Matrix\n",
        "from sklearn.metrics import confusion_matrix\n",
        "confusion_matrix(y_test,y_pred)"
      ],
      "execution_count": null,
      "outputs": []
    },
    {
      "cell_type": "code",
      "metadata": {
        "id": "1NWKRF5oRniT",
        "colab_type": "code",
        "colab": {}
      },
      "source": [
        "#Classification Report\n",
        "from sklearn.metrics import classification_report\n",
        "print(classification_report(y_test,y_pred))"
      ],
      "execution_count": null,
      "outputs": []
    },
    {
      "cell_type": "code",
      "metadata": {
        "id": "pOhC2xaZv6bs",
        "colab_type": "code",
        "colab": {}
      },
      "source": [
        "\n",
        "! pip install streamlit\n",
        "! pip install pyngrok"
      ],
      "execution_count": null,
      "outputs": []
    },
    {
      "cell_type": "code",
      "metadata": {
        "id": "6wKFKlzIwGMp",
        "colab_type": "code",
        "colab": {}
      },
      "source": [
        "\n",
        "%%writefile ml-project.py\n",
        "\n",
        "import streamlit as st\n",
        "import pandas as pd\n",
        "from sklearn.neighbors import KNeighborsClassifier\n",
        "st.title(\"ML Project \")\n",
        "def user_input():\n",
        "      fixed_acidity  = st.slider('fixed_acidity',5.0, 7.0, 12.0)\n",
        "      volatile_Acidity  = st.slider('volatile_Acidity',0,1)     \n",
        "      citric_acid   = st.slider('citric_acid', 0, 1)          \n",
        "      residual_Sugar   = st.slider('residual_Sugar',0, 5,7)       \n",
        "      chlorides  = st.slider('clorides',0,1)    \n",
        "      # free sulfur dioxide  = st.slider(fixed_acidity,)   0\n",
        "      # total sulfur dioxide  = st.slider(fixed_acidity,)  0\n",
        "      # density   = st.slider(fixed_acidity,)          0\n",
        "      # pH  = st.slider(fixed_acidity,)                0\n",
        "      # sulphates  = st.slider(fixed_acidity,)             0\n",
        "      # alcohol  = st.slider(fixed_acidity,)     \n",
        "      data = { 'F_A' : fixed_acidity,\n",
        "                    'V_A':  volatile_Acidity,\n",
        "                     'C_A': citric_acid,\n",
        "                      'R_S': residual_Sugar,\n",
        "                      'Ch':  chlorides   \n",
        "      }\n",
        "      features = pd.DataFrame(data)\n",
        "      return features\n",
        "df = user_input()\n",
        "st.write(df)\n",
        "wine_quality = pd.DataFrame('/content/drive/My Drive/smartknower/machine learning/wine-quality.csv')\n",
        "x = wine_quality.data\n",
        "y = wine_quality.target\n",
        "# from sklearn.neighbors import KNeighborsClassifier\n",
        "# knn = KNeighborsClassifier()\n",
        "# knn.fit(x,y)\n",
        "# y_pred = knn.predict(df)\n",
        "# st.write(wine_quality.target_names[y_pred])\n",
        "\n",
        "\n",
        "\n",
        "from sklearn.model_selection import train_test_split\n",
        "x_train, x_test, y_train, y_test = train_test_split(x, y, test_size = 0.3,random_state = 50)\n",
        "from sklearn.preprocessing import MinMaxScaler\n",
        "scaler = MinMaxScaler()\n",
        "x_train = scaler.fit_transform(x_train)\n",
        "x_test = scaler.transform(x_test)\n",
        "from sklearn.neighbors import KNeighborsClassifier\n",
        "model = KNeighborsClassifier(n_neighbors = 41)\n",
        "#fitting the model\n",
        "model.fit(x_train, y_train)\n",
        "y_pred = model.predict(x_test)\n",
        "st.write(wine_quality.target_names[y_pred])"
      ],
      "execution_count": null,
      "outputs": []
    },
    {
      "cell_type": "code",
      "metadata": {
        "id": "1ewmvt4fwXZy",
        "colab_type": "code",
        "colab": {}
      },
      "source": [
        "from pyngrok import ngrok\n",
        "ngrok.connect(port = '8501')"
      ],
      "execution_count": null,
      "outputs": []
    },
    {
      "cell_type": "code",
      "metadata": {
        "id": "dk5V9TCGC30J",
        "colab_type": "code",
        "colab": {
          "base_uri": "https://localhost:8080/",
          "height": 152
        },
        "outputId": "963769d6-cf7c-459c-9bd6-7019cc0c3094"
      },
      "source": [
        "!streamlit run ml-project.py"
      ],
      "execution_count": null,
      "outputs": [
        {
          "output_type": "stream",
          "text": [
            "\u001b[0m\n",
            "\u001b[34m\u001b[1m  You can now view your Streamlit app in your browser.\u001b[0m\n",
            "\u001b[0m\n",
            "\u001b[34m  Network URL: \u001b[0m\u001b[1mhttp://172.28.0.2:8501\u001b[0m\n",
            "\u001b[34m  External URL: \u001b[0m\u001b[1mhttp://35.201.218.115:8501\u001b[0m\n",
            "\u001b[0m\n"
          ],
          "name": "stdout"
        }
      ]
    }
  ]
}